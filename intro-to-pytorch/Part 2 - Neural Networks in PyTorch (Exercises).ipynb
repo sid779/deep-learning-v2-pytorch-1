{
  "nbformat": 4,
  "nbformat_minor": 0,
  "metadata": {
    "colab": {
      "name": "Part 2 - Neural Networks in PyTorch (Exercises).ipynb",
      "version": "0.3.2",
      "provenance": []
    },
    "language_info": {
      "codemirror_mode": {
        "name": "ipython",
        "version": 3
      },
      "file_extension": ".py",
      "mimetype": "text/x-python",
      "name": "python",
      "nbconvert_exporter": "python",
      "pygments_lexer": "ipython3",
      "version": "3.6.4"
    },
    "kernelspec": {
      "display_name": "Python [default]",
      "language": "python",
      "name": "python3"
    }
  },
  "cells": [
    {
      "cell_type": "markdown",
      "metadata": {
        "id": "rIADPSe4tUWY",
        "colab_type": "text"
      },
      "source": [
        "# Neural networks with PyTorch\n",
        "\n",
        "Deep learning networks tend to be massive with dozens or hundreds of layers, that's where the term \"deep\" comes from. You can build one of these deep networks using only weight matrices as we did in the previous notebook, but in general it's very cumbersome and difficult to implement. PyTorch has a nice module `nn` that provides a nice way to efficiently build large neural networks."
      ]
    },
    {
      "cell_type": "code",
      "metadata": {
        "id": "W5ifbiAdtUWg",
        "colab_type": "code",
        "colab": {}
      },
      "source": [
        "# Import necessary packages\n",
        "\n",
        "%matplotlib inline\n",
        "%config InlineBackend.figure_format = 'retina'\n",
        "\n",
        "import numpy as np\n",
        "import torch\n",
        "\n",
        "import helper\n",
        "\n",
        "import matplotlib.pyplot as plt"
      ],
      "execution_count": 0,
      "outputs": []
    },
    {
      "cell_type": "markdown",
      "metadata": {
        "id": "tkJFnHGYtUWs",
        "colab_type": "text"
      },
      "source": [
        "\n",
        "Now we're going to build a larger network that can solve a (formerly) difficult problem, identifying text in an image. Here we'll use the MNIST dataset which consists of greyscale handwritten digits. Each image is 28x28 pixels, you can see a sample below\n",
        "\n",
        "<img src='https://github.com/sid779/deep-learning-v2-pytorch-1/blob/master/intro-to-pytorch/assets/mnist.png?raw=1'>\n",
        "\n",
        "Our goal is to build a neural network that can take one of these images and predict the digit in the image.\n",
        "\n",
        "First up, we need to get our dataset. This is provided through the `torchvision` package. The code below will download the MNIST dataset, then create training and test datasets for us. Don't worry too much about the details here, you'll learn more about this later."
      ]
    },
    {
      "cell_type": "code",
      "metadata": {
        "id": "dD9tUbj2tUWv",
        "colab_type": "code",
        "colab": {
          "base_uri": "https://localhost:8080/",
          "height": 272
        },
        "outputId": "833a2cc5-650a-4cc2-baf3-75df37084f8f"
      },
      "source": [
        "### Run this cell\n",
        "\n",
        "from torchvision import datasets, transforms\n",
        "\n",
        "# Define a transform to normalize the data\n",
        "transform = transforms.Compose([transforms.ToTensor(),\n",
        "                              transforms.Normalize((0.5,), (0.5,)),\n",
        "                              ])\n",
        "\n",
        "# Download and load the training data\n",
        "trainset = datasets.MNIST('~/.pytorch/MNIST_data/', download=True, train=True, transform=transform)\n",
        "trainloader = torch.utils.data.DataLoader(trainset, batch_size=64, shuffle=True)"
      ],
      "execution_count": 2,
      "outputs": [
        {
          "output_type": "stream",
          "text": [
            "\r0it [00:00, ?it/s]"
          ],
          "name": "stderr"
        },
        {
          "output_type": "stream",
          "text": [
            "Downloading http://yann.lecun.com/exdb/mnist/train-images-idx3-ubyte.gz to /root/.pytorch/MNIST_data/MNIST/raw/train-images-idx3-ubyte.gz\n"
          ],
          "name": "stdout"
        },
        {
          "output_type": "stream",
          "text": [
            "9920512it [00:06, 1611544.91it/s]                            \n"
          ],
          "name": "stderr"
        },
        {
          "output_type": "stream",
          "text": [
            "Extracting /root/.pytorch/MNIST_data/MNIST/raw/train-images-idx3-ubyte.gz\n"
          ],
          "name": "stdout"
        },
        {
          "output_type": "stream",
          "text": [
            "  0%|          | 0/28881 [00:00<?, ?it/s]"
          ],
          "name": "stderr"
        },
        {
          "output_type": "stream",
          "text": [
            "Downloading http://yann.lecun.com/exdb/mnist/train-labels-idx1-ubyte.gz to /root/.pytorch/MNIST_data/MNIST/raw/train-labels-idx1-ubyte.gz\n"
          ],
          "name": "stdout"
        },
        {
          "output_type": "stream",
          "text": [
            "32768it [00:00, 135196.32it/s]           \n",
            "  0%|          | 0/1648877 [00:00<?, ?it/s]"
          ],
          "name": "stderr"
        },
        {
          "output_type": "stream",
          "text": [
            "Extracting /root/.pytorch/MNIST_data/MNIST/raw/train-labels-idx1-ubyte.gz\n",
            "Downloading http://yann.lecun.com/exdb/mnist/t10k-images-idx3-ubyte.gz to /root/.pytorch/MNIST_data/MNIST/raw/t10k-images-idx3-ubyte.gz\n"
          ],
          "name": "stdout"
        },
        {
          "output_type": "stream",
          "text": [
            "1654784it [00:00, 2205624.93it/s]                            \n",
            "0it [00:00, ?it/s]"
          ],
          "name": "stderr"
        },
        {
          "output_type": "stream",
          "text": [
            "Extracting /root/.pytorch/MNIST_data/MNIST/raw/t10k-images-idx3-ubyte.gz\n",
            "Downloading http://yann.lecun.com/exdb/mnist/t10k-labels-idx1-ubyte.gz to /root/.pytorch/MNIST_data/MNIST/raw/t10k-labels-idx1-ubyte.gz\n"
          ],
          "name": "stdout"
        },
        {
          "output_type": "stream",
          "text": [
            "8192it [00:00, 48745.79it/s]            \n"
          ],
          "name": "stderr"
        },
        {
          "output_type": "stream",
          "text": [
            "Extracting /root/.pytorch/MNIST_data/MNIST/raw/t10k-labels-idx1-ubyte.gz\n",
            "Processing...\n",
            "Done!\n"
          ],
          "name": "stdout"
        }
      ]
    },
    {
      "cell_type": "markdown",
      "metadata": {
        "id": "a214e2MDtUW2",
        "colab_type": "text"
      },
      "source": [
        "We have the training data loaded into `trainloader` and we make that an iterator with `iter(trainloader)`. Later, we'll use this to loop through the dataset for training, like\n",
        "\n",
        "```python\n",
        "for image, label in trainloader:\n",
        "    ## do things with images and labels\n",
        "```\n",
        "\n",
        "You'll notice I created the `trainloader` with a batch size of 64, and `shuffle=True`. The batch size is the number of images we get in one iteration from the data loader and pass through our network, often called a *batch*. And `shuffle=True` tells it to shuffle the dataset every time we start going through the data loader again. But here I'm just grabbing the first batch so we can check out the data. We can see below that `images` is just a tensor with size `(64, 1, 28, 28)`. So, 64 images per batch, 1 color channel, and 28x28 images."
      ]
    },
    {
      "cell_type": "code",
      "metadata": {
        "id": "W_r9pc2xtUW4",
        "colab_type": "code",
        "colab": {
          "base_uri": "https://localhost:8080/",
          "height": 67
        },
        "outputId": "dfa1e901-f97a-42d3-ed31-f0793cb78370"
      },
      "source": [
        "dataiter = iter(trainloader)\n",
        "images, labels = dataiter.next()\n",
        "print(type(images))\n",
        "print(images.shape)\n",
        "print(labels.shape)"
      ],
      "execution_count": 3,
      "outputs": [
        {
          "output_type": "stream",
          "text": [
            "<class 'torch.Tensor'>\n",
            "torch.Size([64, 1, 28, 28])\n",
            "torch.Size([64])\n"
          ],
          "name": "stdout"
        }
      ]
    },
    {
      "cell_type": "markdown",
      "metadata": {
        "id": "qWuYer6otUW9",
        "colab_type": "text"
      },
      "source": [
        "This is what one of the images looks like. "
      ]
    },
    {
      "cell_type": "code",
      "metadata": {
        "id": "Pw4MBhbOtUW-",
        "colab_type": "code",
        "colab": {
          "base_uri": "https://localhost:8080/",
          "height": 267
        },
        "outputId": "3041c5ab-de3b-4d3b-8e92-c11f7d7140e3"
      },
      "source": [
        "plt.imshow(images[1].numpy().squeeze(), cmap='Greys_r');"
      ],
      "execution_count": 4,
      "outputs": [
        {
          "output_type": "display_data",
          "data": {
            "image/png": "[encoded data removed]",
            "text/plain": [
              "<Figure size 432x288 with 1 Axes>"
            ]
          },
          "metadata": {
            "tags": [],
            "image/png": {
              "width": 253,
              "height": 250
            }
          }
        }
      ]
    },
    {
      "cell_type": "markdown",
      "metadata": {
        "id": "7_Seco9jtUXD",
        "colab_type": "text"
      },
      "source": [
        "First, let's try to build a simple network for this dataset using weight matrices and matrix multiplications. Then, we'll see how to do it using PyTorch's `nn` module which provides a much more convenient and powerful method for defining network architectures.\n",
        "\n",
        "The networks you've seen so far are called *fully-connected* or *dense* networks. Each unit in one layer is connected to each unit in the next layer. In fully-connected networks, the input to each layer must be a one-dimensional vector (which can be stacked into a 2D tensor as a batch of multiple examples). However, our images are 28x28 2D tensors, so we need to convert them into 1D vectors. Thinking about sizes, we need to convert the batch of images with shape `(64, 1, 28, 28)` to a have a shape of `(64, 784)`, 784 is 28 times 28. This is typically called *flattening*, we flattened the 2D images into 1D vectors.\n",
        "\n",
        "Previously you built a network with one output unit. Here we need 10 output units, one for each digit. We want our network to predict the digit shown in an image, so what we'll do is calculate probabilities that the image is of any one digit or class. This ends up being a discrete probability distribution over the classes (digits) that tells us the most likely class for the image. That means we need 10 output units for the 10 classes (digits). We'll see how to convert the network output into a probability distribution next.\n",
        "\n",
        "> **Exercise:** Flatten the batch of images `images`. Then build a multi-layer network with 784 input units, 256 hidden units, and 10 output units using random tensors for the weights and biases. For now, use a sigmoid activation for the hidden layer. Leave the output layer without an activation, we'll add one that gives us a probability distribution next."
      ]
    },
    {
      "cell_type": "code",
      "metadata": {
        "id": "6F6WGvWPtUXE",
        "colab_type": "code",
        "colab": {
          "base_uri": "https://localhost:8080/",
          "height": 2167
        },
        "outputId": "6a321db9-8b6f-4aa2-b331-cdf5f8dda094"
      },
      "source": [
        "## Your solution\n",
        "def activation(x):\n",
        "  return 1/(1+torch.exp(-x))\n",
        "\n",
        "# Flatten input images\n",
        "inputs = images.view(images.shape[0], -1)\n",
        "\n",
        "w1=torch.randn(784, 256)\n",
        "w2=torch.randn(256,64)\n",
        "w3=torch.randn(64,10)\n",
        "b1=torch.randn(256)\n",
        "b2=torch.randn(64)\n",
        "b3=torch.randn(10)\n",
        "\n",
        "h1 = activation(torch.mm(inputs,w1) + b1)\n",
        "h2 = activation(torch.mm(h1,w2) + b2)\n",
        "\n",
        "out = torch.mm(h2,w3) +b3\n",
        "print(out)"
      ],
      "execution_count": 8,
      "outputs": [
        {
          "output_type": "stream",
          "text": [
            "tensor([[ -3.1936,  -8.9438,  -6.4746,   5.0979,   5.5715,  -5.2516,  -4.6413,\n",
            "           2.5207,  -3.5638,   1.9063],\n",
            "        [ -3.0302,  -4.2272, -11.1666,  10.5315,   1.9865,  -8.3763,  -4.0214,\n",
            "           1.1447,  -4.4016,   3.2657],\n",
            "        [ -4.0146,  -5.3150,  -6.9082,   2.6786,   6.2200,  -3.2283,  -4.5681,\n",
            "           8.8727,  -4.5881,   0.4300],\n",
            "        [ -5.1744,  -6.2445, -10.5763,   4.6258,   2.9596,  -4.4424,  -4.8526,\n",
            "           5.4758,  -3.7365,   3.5949],\n",
            "        [ -5.6218,  -3.9445,  -9.5556,   2.5514,   2.2204,  -2.1198,  -7.2906,\n",
            "           4.1785,  -0.9283,   1.2680],\n",
            "        [ -5.3688,  -5.2883, -11.8674,   4.3357,   4.3965,  -7.7434,  -2.5463,\n",
            "           3.0517,  -3.7400,   1.9012],\n",
            "        [ -3.3277,  -2.8669, -11.1647,   3.3674,   2.6538,  -6.8151,  -7.9487,\n",
            "           4.6482,  -0.7726,   3.7584],\n",
            "        [ -5.4483,  -6.0371,  -8.1398,   3.0740,   3.9067,  -6.0123,  -4.7856,\n",
            "           7.2432,  -0.7040,   4.5043],\n",
            "        [ -5.4123,  -6.8439, -11.9959,   8.7969,  -4.8518,  -4.7259,  -1.2283,\n",
            "          -1.4985,  -2.0059,   3.4757],\n",
            "        [ -2.4842,  -6.9930,  -9.5977,   4.7276,   5.7346,  -4.0145,  -4.5936,\n",
            "           2.7461,   0.5319,   0.8767],\n",
            "        [ -1.6621,  -4.3429, -15.6120,  10.4149,  -6.2657,  -8.8349,  -0.2069,\n",
            "           1.0241,  -0.2633,   5.3645],\n",
            "        [ -1.6564,  -3.0725,  -9.0587,   7.7981,   0.8810,  -6.1025,  -2.6777,\n",
            "           2.2596,  -0.3891,   6.0880],\n",
            "        [ -3.0487,  -4.5038,  -9.0341,   2.3605,   0.1856,  -6.9240,  -4.8341,\n",
            "           3.3551,  -2.8605,   3.5079],\n",
            "        [ -4.7426,  -3.8269, -12.8201,   2.5766,   3.7616,  -7.7662,  -6.2826,\n",
            "           4.1305,  -2.5593,   4.1249],\n",
            "        [ -3.3126,  -3.7788,  -9.6316,   1.9712,   1.8457,  -4.1403,  -6.8997,\n",
            "           6.3104,   1.5179,   7.8330],\n",
            "        [ -4.6720,  -2.7678, -13.7571,   5.2277,   1.5984,  -6.2429,  -1.9799,\n",
            "           2.7378,  -0.3852,   3.0311],\n",
            "        [  2.9263,  -5.5463, -13.2472,   3.7913,   0.6010,  -6.6462,  -1.4439,\n",
            "          -1.6748,  -3.4327,   6.2006],\n",
            "        [ -3.1269,  -5.6491,  -9.3383,   5.0516,   1.1441,  -3.2156,  -4.0276,\n",
            "           3.8831,   0.2629,   5.8178],\n",
            "        [  0.6040,  -1.3875, -12.2038,   3.7458,  -1.8308,  -7.2828,  -6.3345,\n",
            "          -2.0855,   0.6511,   5.8841],\n",
            "        [ -4.3626,  -1.8635, -10.1192,   6.9820,   1.0700,  -8.2364,  -4.4175,\n",
            "          -0.7190,  -1.3070,   1.8392],\n",
            "        [ -4.3616,  -4.3635, -11.0252,   4.7442,   2.5774,  -5.1821,  -3.1336,\n",
            "          -0.9486,   0.8578,   3.0783],\n",
            "        [ -5.6400,  -4.5381,  -9.1888,   4.0445,   3.6574,  -4.8012,  -5.4564,\n",
            "           4.5755,   0.6155,   4.1777],\n",
            "        [ -1.3044,  -3.8852, -11.5422,   7.8803,  -3.0899,  -5.1374,  -4.8952,\n",
            "          -0.3204,  -1.1335,   3.5494],\n",
            "        [ -8.7084,  -6.6521,  -9.6091,   6.2876,   1.8918,  -6.5500,  -3.2115,\n",
            "           2.2030,  -3.3444,   1.6957],\n",
            "        [ -5.3814,  -6.4704,  -8.5017,  13.1794,  -1.5715,  -5.7702,  -3.0210,\n",
            "          -3.2283,   2.8081,   0.5272],\n",
            "        [ -2.9226,  -4.5659, -11.1721,   5.9441,   2.3989,  -4.5864,  -6.1412,\n",
            "           1.8904,   2.1043,   3.6581],\n",
            "        [ -5.0976,  -7.7761,  -9.5673,   5.8890,   2.7021,  -7.6784,  -2.6761,\n",
            "           2.8356,   1.1287,   5.0739],\n",
            "        [ -5.1310,  -6.2060, -12.6158,   6.2176,   0.7111,  -7.2422,  -5.4684,\n",
            "           4.5111,  -2.8857,   4.5365],\n",
            "        [ -1.5188,  -2.2879, -12.3299,   3.5314,  -1.6478,  -5.9936,  -4.4192,\n",
            "          -1.9704,  -0.3196,   1.3424],\n",
            "        [ -5.2560,  -2.8126,  -6.9280,   8.7592,  -2.5345,  -6.2439,  -1.3223,\n",
            "          -0.7501,  -3.3143,   0.0173],\n",
            "        [ -3.0405,  -7.0984,  -6.4680,   2.7410,   6.9051,  -2.5541,  -4.0638,\n",
            "           5.9110,   1.4442,   0.4641],\n",
            "        [ -4.3919,  -5.5494,  -9.4963,   9.2083,   0.1992,  -8.0234,  -4.0613,\n",
            "          -1.0850,   0.7133,   1.1400],\n",
            "        [ -5.4820,  -4.4561, -10.8313,   6.2107,   3.4426,  -4.3358,  -5.0702,\n",
            "           1.5199,  -0.0868,   3.6363],\n",
            "        [ -1.3230,  -5.3977,  -8.8559,   6.2651,   2.4755,  -5.5240,  -1.9872,\n",
            "           2.6453,  -0.5779,   2.5498],\n",
            "        [ -4.4312,  -4.3400, -11.3032,   6.8472,  -2.6765,  -6.2247,  -1.3779,\n",
            "           4.8031,   1.4117,   4.6012],\n",
            "        [ -0.5186,  -4.5953,  -8.8946,   4.0839,   3.3434,  -5.9638,  -4.8845,\n",
            "           3.3454,   1.5603,   3.5458],\n",
            "        [ -4.9235,  -4.0071, -15.2402,   2.0920,  -0.5816,  -0.9848,  -3.0108,\n",
            "           3.1843,  -1.0417,  -0.6865],\n",
            "        [ -0.5660,  -5.8362,  -9.5357,   3.8808,   2.7995,  -7.4038,   0.0692,\n",
            "           1.0130,  -1.1616,   4.5077],\n",
            "        [ -8.7508,  -5.9715, -11.5594,   4.3578,   5.3085,  -4.6758,  -7.6229,\n",
            "          -1.4840,   3.9439,   1.1587],\n",
            "        [ -6.9842,  -4.1817,  -9.3457,   8.4580,   0.2219,  -5.6035,  -1.0385,\n",
            "           1.0470,  -1.5126,   2.3777],\n",
            "        [ -1.7192,  -4.7145,  -8.4187,   9.4031,   0.9062,  -5.6147,  -1.8871,\n",
            "          -0.7759,   1.5930,   1.0107],\n",
            "        [ -1.0754,  -6.7465,  -9.9192,   5.5117,  -6.3489,  -7.0001,   4.5992,\n",
            "          -0.2360,  -2.3991,   4.4850],\n",
            "        [ -5.4090,  -5.6219, -13.0753,   4.1660,  -1.9690,  -7.5987,  -2.1482,\n",
            "           4.3760,  -1.3214,   4.1874],\n",
            "        [ -3.7097,  -2.1827, -14.4924,   7.0445,  -2.8235,  -8.7908,  -5.0556,\n",
            "           0.8071,   0.6449,   3.9162],\n",
            "        [ -6.6410,  -6.4402, -12.0224,   4.1991,  -1.9617,  -5.9075,  -1.4016,\n",
            "           4.2264,  -0.6322,   5.7372],\n",
            "        [ -7.5425,  -3.2162, -10.4682,   4.4997,  -1.5723,  -7.5840,  -4.7551,\n",
            "           5.5955,  -1.0052,   4.4694],\n",
            "        [ -4.5685,  -6.2942, -10.3377,   6.0260,   5.3632,  -3.2398,  -6.5208,\n",
            "           0.8213,  -2.7890,   7.0779],\n",
            "        [ -3.5515,  -5.6378,  -9.6860,   4.6085,  -0.1450,   0.0619,   0.3757,\n",
            "          -4.3671,   4.0380,   0.7487],\n",
            "        [ -4.2523,  -6.6305, -10.0428,   4.2382,   4.9576,  -6.4152,  -4.9070,\n",
            "           2.2961,   0.7991,   4.6468],\n",
            "        [ -5.8222,  -3.0152, -11.5104,   7.3080,  -2.1756,  -5.8470,  -3.6871,\n",
            "           0.9010,  -1.3763,   3.7298],\n",
            "        [ -5.6550,  -1.9978, -14.5960,   4.8099,  -0.0901,  -4.8129,  -4.6892,\n",
            "           1.0983,   1.8172,   6.0402],\n",
            "        [ -9.6885,  -4.1796,  -7.2246,   4.4921,   1.5298,  -2.8531,  -6.1206,\n",
            "           2.7517,  -2.4563,  -0.6731],\n",
            "        [ -2.6752,  -5.4536, -12.4161,   2.2661,   0.6186,  -6.2733,  -3.6623,\n",
            "           2.7673,   1.5773,   8.4311],\n",
            "        [ -5.0147,  -3.4960,  -9.4121,   2.9148,  -0.9084,  -5.3570,  -3.7543,\n",
            "           3.4688,   0.8497,   4.8916],\n",
            "        [ -4.3766,  -5.4256, -13.3840,   0.8348,   1.3534,  -3.1335,  -7.7130,\n",
            "           4.1360,  -2.7903,   5.4517],\n",
            "        [ -2.2398,  -3.0222, -10.6138,   7.0958,   2.5930,  -6.3594,  -4.9667,\n",
            "          -1.9256,  -0.5266,   3.9535],\n",
            "        [ -5.5349,  -4.8747,  -8.0211,   4.9278,  -1.4697,  -1.5762,  -4.6554,\n",
            "           2.1426,  -1.7231,   3.1109],\n",
            "        [ -0.8566,  -3.3042, -11.6292,   5.3325,  -3.4921,  -4.2633,  -2.1775,\n",
            "          -6.8975,  -0.6891,   0.1441],\n",
            "        [ -2.2646,  -2.5182,  -7.4372,   2.5534,   7.8048,  -1.3716,  -2.5149,\n",
            "          -0.4880,  -1.2355,   1.0173],\n",
            "        [ -1.1424,  -8.0508,  -9.3085,   5.3241,   2.2423,  -6.6590,   4.1751,\n",
            "           1.5989,  -2.3295,   3.3879],\n",
            "        [ -8.7084,  -7.7759,  -8.9184,   4.9227,  -1.1162,  -4.3845,  -2.7944,\n",
            "           3.1546,  -4.2170,  -0.0817],\n",
            "        [ -3.0446,  -5.5075, -11.3332,   5.5299,   0.7476,  -5.4866,  -6.1113,\n",
            "          -1.9911,   3.6452,   3.8323],\n",
            "        [ -4.8965,  -2.0046, -10.4212,   5.7489,  -1.2863,  -9.8484,  -5.1012,\n",
            "          -0.7950,   0.4920,   7.0384],\n",
            "        [ -3.3723,  -4.5470, -10.6589,   6.1843,   1.9390,  -7.5130,  -2.6354,\n",
            "           1.8577,  -0.3228,   0.3998]])\n"
          ],
          "name": "stdout"
        }
      ]
    },
    {
      "cell_type": "markdown",
      "metadata": {
        "id": "YNi9kJontUXH",
        "colab_type": "text"
      },
      "source": [
        "Now we have 10 outputs for our network. We want to pass in an image to our network and get out a probability distribution over the classes that tells us the likely class(es) the image belongs to. Something that looks like this:\n",
        "<img src='https://github.com/sid779/deep-learning-v2-pytorch-1/blob/master/intro-to-pytorch/assets/image_distribution.png?raw=1' width=500px>\n",
        "\n",
        "Here we see that the probability for each class is roughly the same. This is representing an untrained network, it hasn't seen any data yet so it just returns a uniform distribution with equal probabilities for each class.\n",
        "\n",
        "To calculate this probability distribution, we often use the [**softmax** function](https://en.wikipedia.org/wiki/Softmax_function). Mathematically this looks like\n",
        "\n",
        "$$\n",
        "\\Large \\sigma(x_i) = \\cfrac{e^{x_i}}{\\sum_k^K{e^{x_k}}}\n",
        "$$\n",
        "\n",
        "What this does is squish each input $x_i$ between 0 and 1 and normalizes the values to give you a proper probability distribution where the probabilites sum up to one.\n",
        "\n",
        "> **Exercise:** Implement a function `softmax` that performs the softmax calculation and returns probability distributions for each example in the batch. Note that you'll need to pay attention to the shapes when doing this. If you have a tensor `a` with shape `(64, 10)` and a tensor `b` with shape `(64,)`, doing `a/b` will give you an error because PyTorch will try to do the division across the columns (called broadcasting) but you'll get a size mismatch. The way to think about this is for each of the 64 examples, you only want to divide by one value, the sum in the denominator. So you need `b` to have a shape of `(64, 1)`. This way PyTorch will divide the 10 values in each row of `a` by the one value in each row of `b`. Pay attention to how you take the sum as well. You'll need to define the `dim` keyword in `torch.sum`. Setting `dim=0` takes the sum across the rows while `dim=1` takes the sum across the columns."
      ]
    },
    {
      "cell_type": "code",
      "metadata": {
        "id": "g5F6wqmatUXI",
        "colab_type": "code",
        "colab": {
          "base_uri": "https://localhost:8080/",
          "height": 168
        },
        "outputId": "1966845a-2ca2-445c-a8b5-fdb6af85d393"
      },
      "source": [
        "def softmax(x):\n",
        "    ## TODO: Implement the softmax function here\n",
        "    return torch.exp(x)/torch.sum(torch.exp(x), dim=1).view(-1, 1)\n",
        "\n",
        "# Here, out should be the output of the network in the previous excercise with shape (64,10)\n",
        "probabilities = softmax(out)\n",
        "\n",
        "# Does it have the right shape? Should be (64, 10)\n",
        "print(probabilities.shape)\n",
        "# Does it sum to 1?\n",
        "print(probabilities.sum(dim=1))"
      ],
      "execution_count": 10,
      "outputs": [
        {
          "output_type": "stream",
          "text": [
            "torch.Size([64, 10])\n",
            "tensor([1.0000, 1.0000, 1.0000, 1.0000, 1.0000, 1.0000, 1.0000, 1.0000, 1.0000,\n",
            "        1.0000, 1.0000, 1.0000, 1.0000, 1.0000, 1.0000, 1.0000, 1.0000, 1.0000,\n",
            "        1.0000, 1.0000, 1.0000, 1.0000, 1.0000, 1.0000, 1.0000, 1.0000, 1.0000,\n",
            "        1.0000, 1.0000, 1.0000, 1.0000, 1.0000, 1.0000, 1.0000, 1.0000, 1.0000,\n",
            "        1.0000, 1.0000, 1.0000, 1.0000, 1.0000, 1.0000, 1.0000, 1.0000, 1.0000,\n",
            "        1.0000, 1.0000, 1.0000, 1.0000, 1.0000, 1.0000, 1.0000, 1.0000, 1.0000,\n",
            "        1.0000, 1.0000, 1.0000, 1.0000, 1.0000, 1.0000, 1.0000, 1.0000, 1.0000,\n",
            "        1.0000])\n"
          ],
          "name": "stdout"
        }
      ]
    },
    {
      "cell_type": "markdown",
      "metadata": {
        "id": "qGPpeksUtUXM",
        "colab_type": "text"
      },
      "source": [
        "## Building networks with PyTorch\n",
        "\n",
        "PyTorch provides a module `nn` that makes building networks much simpler. Here I'll show you how to build the same one as above with 784 inputs, 256 hidden units, 10 output units and a softmax output."
      ]
    },
    {
      "cell_type": "code",
      "metadata": {
        "id": "MH23DmV3tUXN",
        "colab_type": "code",
        "colab": {}
      },
      "source": [
        "from torch import nn"
      ],
      "execution_count": 0,
      "outputs": []
    },
    {
      "cell_type": "code",
      "metadata": {
        "id": "ls2qJanOtUXR",
        "colab_type": "code",
        "colab": {}
      },
      "source": [
        "class Network(nn.Module):\n",
        "    def __init__(self):\n",
        "        super().__init__()\n",
        "        \n",
        "        # Inputs to hidden layer linear transformation\n",
        "        self.hidden = nn.Linear(784, 256)\n",
        "        # Output layer, 10 units - one for each digit\n",
        "        self.output = nn.Linear(256, 10)\n",
        "        \n",
        "        # Define sigmoid activation and softmax output \n",
        "        self.sigmoid = nn.Sigmoid()\n",
        "        self.softmax = nn.Softmax(dim=1)\n",
        "        \n",
        "    def forward(self, x):\n",
        "        # Pass the input tensor through each of our operations\n",
        "        x = self.hidden(x)\n",
        "        x = self.sigmoid(x)\n",
        "        x = self.output(x)\n",
        "        x = self.softmax(x)\n",
        "        \n",
        "        return x"
      ],
      "execution_count": 0,
      "outputs": []
    },
    {
      "cell_type": "markdown",
      "metadata": {
        "id": "waFYVm46tUXV",
        "colab_type": "text"
      },
      "source": [
        "Let's go through this bit by bit.\n",
        "\n",
        "```python\n",
        "class Network(nn.Module):\n",
        "```\n",
        "\n",
        "Here we're inheriting from `nn.Module`. Combined with `super().__init__()` this creates a class that tracks the architecture and provides a lot of useful methods and attributes. It is mandatory to inherit from `nn.Module` when you're creating a class for your network. The name of the class itself can be anything.\n",
        "\n",
        "```python\n",
        "self.hidden = nn.Linear(784, 256)\n",
        "```\n",
        "\n",
        "This line creates a module for a linear transformation, $x\\mathbf{W} + b$, with 784 inputs and 256 outputs and assigns it to `self.hidden`. The module automatically creates the weight and bias tensors which we'll use in the `forward` method. You can access the weight and bias tensors once the network (`net`) is created with `net.hidden.weight` and `net.hidden.bias`.\n",
        "\n",
        "```python\n",
        "self.output = nn.Linear(256, 10)\n",
        "```\n",
        "\n",
        "Similarly, this creates another linear transformation with 256 inputs and 10 outputs.\n",
        "\n",
        "```python\n",
        "self.sigmoid = nn.Sigmoid()\n",
        "self.softmax = nn.Softmax(dim=1)\n",
        "```\n",
        "\n",
        "Here I defined operations for the sigmoid activation and softmax output. Setting `dim=1` in `nn.Softmax(dim=1)` calculates softmax across the columns.\n",
        "\n",
        "```python\n",
        "def forward(self, x):\n",
        "```\n",
        "\n",
        "PyTorch networks created with `nn.Module` must have a `forward` method defined. It takes in a tensor `x` and passes it through the operations you defined in the `__init__` method.\n",
        "\n",
        "```python\n",
        "x = self.hidden(x)\n",
        "x = self.sigmoid(x)\n",
        "x = self.output(x)\n",
        "x = self.softmax(x)\n",
        "```\n",
        "\n",
        "Here the input tensor `x` is passed through each operation and reassigned to `x`. We can see that the input tensor goes through the hidden layer, then a sigmoid function, then the output layer, and finally the softmax function. It doesn't matter what you name the variables here, as long as the inputs and outputs of the operations match the network architecture you want to build. The order in which you define things in the `__init__` method doesn't matter, but you'll need to sequence the operations correctly in the `forward` method.\n",
        "\n",
        "Now we can create a `Network` object."
      ]
    },
    {
      "cell_type": "code",
      "metadata": {
        "id": "HbpdV9V1tUXW",
        "colab_type": "code",
        "colab": {
          "base_uri": "https://localhost:8080/",
          "height": 118
        },
        "outputId": "f82d078c-b578-4d92-e793-dbf7f66dceb0"
      },
      "source": [
        "# Create the network and look at it's text representation\n",
        "model = Network()\n",
        "model"
      ],
      "execution_count": 13,
      "outputs": [
        {
          "output_type": "execute_result",
          "data": {
            "text/plain": [
              "Network(\n",
              "  (hidden): Linear(in_features=784, out_features=256, bias=True)\n",
              "  (output): Linear(in_features=256, out_features=10, bias=True)\n",
              "  (sigmoid): Sigmoid()\n",
              "  (softmax): Softmax()\n",
              ")"
            ]
          },
          "metadata": {
            "tags": []
          },
          "execution_count": 13
        }
      ]
    },
    {
      "cell_type": "markdown",
      "metadata": {
        "id": "7qVodbMetUXZ",
        "colab_type": "text"
      },
      "source": [
        "You can define the network somewhat more concisely and clearly using the `torch.nn.functional` module. This is the most common way you'll see networks defined as many operations are simple element-wise functions. We normally import this module as `F`, `import torch.nn.functional as F`."
      ]
    },
    {
      "cell_type": "code",
      "metadata": {
        "id": "yY42AY5WtUXa",
        "colab_type": "code",
        "colab": {}
      },
      "source": [
        "import torch.nn.functional as F\n",
        "\n",
        "class Network(nn.Module):\n",
        "    def __init__(self):\n",
        "        super().__init__()\n",
        "        # Inputs to hidden layer linear transformation\n",
        "        self.hidden = nn.Linear(784, 256)\n",
        "        # Output layer, 10 units - one for each digit\n",
        "        self.output = nn.Linear(256, 10)\n",
        "        \n",
        "    def forward(self, x):\n",
        "        # Hidden layer with sigmoid activation\n",
        "        x = F.sigmoid(self.hidden(x))\n",
        "        # Output layer with softmax activation\n",
        "        x = F.softmax(self.output(x), dim=1)\n",
        "        \n",
        "        return x"
      ],
      "execution_count": 0,
      "outputs": []
    },
    {
      "cell_type": "markdown",
      "metadata": {
        "id": "1SXC5sXbtUXc",
        "colab_type": "text"
      },
      "source": [
        "### Activation functions\n",
        "\n",
        "So far we've only been looking at the sigmoid activation function, but in general any function can be used as an activation function. The only requirement is that for a network to approximate a non-linear function, the activation functions must be non-linear. Here are a few more examples of common activation functions: Tanh (hyperbolic tangent), and ReLU (rectified linear unit).\n",
        "\n",
        "<img src=\"https://github.com/sid779/deep-learning-v2-pytorch-1/blob/master/intro-to-pytorch/assets/activation.png?raw=1\" width=700px>\n",
        "\n",
        "In practice, the ReLU function is used almost exclusively as the activation function for hidden layers."
      ]
    },
    {
      "cell_type": "markdown",
      "metadata": {
        "id": "VCGm5JZNtUXd",
        "colab_type": "text"
      },
      "source": [
        "### Your Turn to Build a Network\n",
        "\n",
        "<img src=\"https://github.com/sid779/deep-learning-v2-pytorch-1/blob/master/intro-to-pytorch/assets/mlp_mnist.png?raw=1\" width=600px>\n",
        "\n",
        "> **Exercise:** Create a network with 784 input units, a hidden layer with 128 units and a ReLU activation, then a hidden layer with 64 units and a ReLU activation, and finally an output layer with a softmax activation as shown above. You can use a ReLU activation with the `nn.ReLU` module or `F.relu` function.\n",
        "\n",
        "It's good practice to name your layers by their type of network, for instance 'fc' to represent a fully-connected layer. As you code your solution, use `fc1`, `fc2`, and `fc3` as your layer names."
      ]
    },
    {
      "cell_type": "code",
      "metadata": {
        "scrolled": true,
        "id": "o5lJgak3tUXe",
        "colab_type": "code",
        "colab": {
          "base_uri": "https://localhost:8080/",
          "height": 101
        },
        "outputId": "38c517dd-66a0-4368-b3a1-bf38d7712ca3"
      },
      "source": [
        "## Your solution here\n",
        "class Network(nn.Module):\n",
        "    def __init__(self):\n",
        "        super().__init__()\n",
        "        # Defining the layers, 128, 64, 10 units each\n",
        "        self.fc1 = nn.Linear(784, 128)\n",
        "        self.fc2 = nn.Linear(128, 64)\n",
        "        # Output layer, 10 units - one for each digit\n",
        "        self.fc3 = nn.Linear(64, 10)\n",
        "        \n",
        "    def forward(self, x):\n",
        "        ''' Forward pass through the network, returns the output logits '''\n",
        "        \n",
        "        x = self.fc1(x)\n",
        "        x = F.relu(x)\n",
        "        x = self.fc2(x)\n",
        "        x = F.relu(x)\n",
        "        x = self.fc3(x)\n",
        "        x = F.softmax(x, dim=1)\n",
        "        \n",
        "        return x\n",
        "\n",
        "model = Network()\n",
        "model"
      ],
      "execution_count": 15,
      "outputs": [
        {
          "output_type": "execute_result",
          "data": {
            "text/plain": [
              "Network(\n",
              "  (fc1): Linear(in_features=784, out_features=128, bias=True)\n",
              "  (fc2): Linear(in_features=128, out_features=64, bias=True)\n",
              "  (fc3): Linear(in_features=64, out_features=10, bias=True)\n",
              ")"
            ]
          },
          "metadata": {
            "tags": []
          },
          "execution_count": 15
        }
      ]
    },
    {
      "cell_type": "markdown",
      "metadata": {
        "id": "K9kF1VkStUXg",
        "colab_type": "text"
      },
      "source": [
        "### Initializing weights and biases\n",
        "\n",
        "The weights and such are automatically initialized for you, but it's possible to customize how they are initialized. The weights and biases are tensors attached to the layer you defined, you can get them with `model.fc1.weight` for instance."
      ]
    },
    {
      "cell_type": "code",
      "metadata": {
        "id": "SUAlQSXbtUXh",
        "colab_type": "code",
        "colab": {
          "base_uri": "https://localhost:8080/",
          "height": 470
        },
        "outputId": "506d9292-e68f-4de7-b701-dca2ff8a9de3"
      },
      "source": [
        "print(model.fc1.weight)\n",
        "print(model.fc1.bias)"
      ],
      "execution_count": 16,
      "outputs": [
        {
          "output_type": "stream",
          "text": [
            "Parameter containing:\n",
            "tensor([[-0.0040, -0.0247, -0.0221,  ..., -0.0229, -0.0061,  0.0268],\n",
            "        [-0.0091,  0.0307, -0.0217,  ...,  0.0178, -0.0348,  0.0081],\n",
            "        [-0.0245, -0.0224,  0.0018,  ...,  0.0147, -0.0151,  0.0097],\n",
            "        ...,\n",
            "        [-0.0024,  0.0229, -0.0298,  ..., -0.0309,  0.0110, -0.0145],\n",
            "        [-0.0195, -0.0070,  0.0290,  ..., -0.0001, -0.0231,  0.0285],\n",
            "        [-0.0227, -0.0118, -0.0206,  ...,  0.0125,  0.0002,  0.0298]],\n",
            "       requires_grad=True)\n",
            "Parameter containing:\n",
            "tensor([-0.0043, -0.0181, -0.0142,  0.0322, -0.0230,  0.0001,  0.0144,  0.0139,\n",
            "        -0.0342, -0.0301, -0.0002,  0.0158,  0.0164, -0.0265,  0.0114, -0.0052,\n",
            "         0.0245, -0.0086,  0.0272, -0.0036, -0.0347, -0.0225,  0.0143,  0.0084,\n",
            "        -0.0128, -0.0309, -0.0166, -0.0292, -0.0326,  0.0221,  0.0225,  0.0274,\n",
            "        -0.0178, -0.0200,  0.0142, -0.0150, -0.0318,  0.0113,  0.0150,  0.0145,\n",
            "         0.0042,  0.0042, -0.0137, -0.0072,  0.0182, -0.0013, -0.0221,  0.0297,\n",
            "        -0.0228, -0.0049, -0.0157,  0.0166,  0.0250,  0.0354,  0.0150, -0.0038,\n",
            "         0.0260,  0.0084,  0.0167, -0.0013,  0.0082, -0.0029, -0.0332, -0.0348,\n",
            "        -0.0298, -0.0119,  0.0090,  0.0286, -0.0175,  0.0245, -0.0326, -0.0238,\n",
            "        -0.0119, -0.0155,  0.0241,  0.0321,  0.0208, -0.0211,  0.0228,  0.0324,\n",
            "        -0.0351,  0.0346, -0.0070, -0.0255,  0.0090,  0.0214,  0.0247,  0.0035,\n",
            "        -0.0149, -0.0354, -0.0116,  0.0196, -0.0303,  0.0102, -0.0171,  0.0179,\n",
            "        -0.0262, -0.0167,  0.0258, -0.0276, -0.0053, -0.0123, -0.0056,  0.0165,\n",
            "        -0.0023,  0.0056, -0.0248, -0.0038,  0.0096,  0.0267,  0.0027,  0.0332,\n",
            "         0.0125, -0.0137,  0.0337, -0.0039, -0.0231, -0.0028, -0.0181,  0.0065,\n",
            "         0.0066,  0.0013,  0.0066,  0.0251, -0.0347,  0.0104, -0.0269,  0.0247],\n",
            "       requires_grad=True)\n"
          ],
          "name": "stdout"
        }
      ]
    },
    {
      "cell_type": "markdown",
      "metadata": {
        "id": "pc2zZT02tUXk",
        "colab_type": "text"
      },
      "source": [
        "For custom initialization, we want to modify these tensors in place. These are actually autograd *Variables*, so we need to get back the actual tensors with `model.fc1.weight.data`. Once we have the tensors, we can fill them with zeros (for biases) or random normal values."
      ]
    },
    {
      "cell_type": "code",
      "metadata": {
        "id": "3dyiogKTtUXl",
        "colab_type": "code",
        "colab": {
          "base_uri": "https://localhost:8080/",
          "height": 138
        },
        "outputId": "766e6196-1351-47bc-a4ab-0931b45b4e4b"
      },
      "source": [
        "# Set biases to all zeros\n",
        "model.fc1.bias.data.fill_(0)"
      ],
      "execution_count": 17,
      "outputs": [
        {
          "output_type": "execute_result",
          "data": {
            "text/plain": [
              "tensor([0., 0., 0., 0., 0., 0., 0., 0., 0., 0., 0., 0., 0., 0., 0., 0., 0., 0., 0., 0., 0., 0., 0., 0.,\n",
              "        0., 0., 0., 0., 0., 0., 0., 0., 0., 0., 0., 0., 0., 0., 0., 0., 0., 0., 0., 0., 0., 0., 0., 0.,\n",
              "        0., 0., 0., 0., 0., 0., 0., 0., 0., 0., 0., 0., 0., 0., 0., 0., 0., 0., 0., 0., 0., 0., 0., 0.,\n",
              "        0., 0., 0., 0., 0., 0., 0., 0., 0., 0., 0., 0., 0., 0., 0., 0., 0., 0., 0., 0., 0., 0., 0., 0.,\n",
              "        0., 0., 0., 0., 0., 0., 0., 0., 0., 0., 0., 0., 0., 0., 0., 0., 0., 0., 0., 0., 0., 0., 0., 0.,\n",
              "        0., 0., 0., 0., 0., 0., 0., 0.])"
            ]
          },
          "metadata": {
            "tags": []
          },
          "execution_count": 17
        }
      ]
    },
    {
      "cell_type": "code",
      "metadata": {
        "id": "kfem_orBtUXn",
        "colab_type": "code",
        "colab": {
          "base_uri": "https://localhost:8080/",
          "height": 235
        },
        "outputId": "bdeb2d17-05c3-46aa-d605-0d5d2397b991"
      },
      "source": [
        "# sample from random normal with standard dev = 0.01\n",
        "model.fc1.weight.data.normal_(std=0.01)"
      ],
      "execution_count": 18,
      "outputs": [
        {
          "output_type": "execute_result",
          "data": {
            "text/plain": [
              "tensor([[ 6.6498e-03,  1.4018e-02,  5.9905e-04,  ...,  1.4757e-02,\n",
              "          1.4865e-02, -1.4292e-02],\n",
              "        [-1.2604e-02, -4.0339e-03, -8.1107e-03,  ..., -7.8833e-03,\n",
              "          5.8216e-03, -1.7094e-02],\n",
              "        [ 3.1477e-03, -2.8744e-03, -3.7551e-03,  ...,  2.8447e-03,\n",
              "          3.7794e-03,  1.2359e-02],\n",
              "        ...,\n",
              "        [-5.9760e-03, -7.0659e-04, -1.9849e-02,  ..., -1.2364e-02,\n",
              "          2.4974e-04, -1.7851e-02],\n",
              "        [-9.3948e-04,  3.6691e-03,  7.5677e-03,  ...,  5.6254e-03,\n",
              "         -7.4574e-04,  1.3313e-02],\n",
              "        [-4.1667e-03,  1.3287e-02, -2.9407e-05,  ..., -6.3201e-04,\n",
              "         -2.0152e-02, -6.1524e-03]])"
            ]
          },
          "metadata": {
            "tags": []
          },
          "execution_count": 18
        }
      ]
    },
    {
      "cell_type": "markdown",
      "metadata": {
        "id": "VraZxMOatUXq",
        "colab_type": "text"
      },
      "source": [
        "### Forward pass\n",
        "\n",
        "Now that we have a network, let's see what happens when we pass in an image."
      ]
    },
    {
      "cell_type": "code",
      "metadata": {
        "id": "X3AlO5wHtUXr",
        "colab_type": "code",
        "colab": {
          "base_uri": "https://localhost:8080/",
          "height": 195
        },
        "outputId": "95e9da90-25c3-46a9-927a-eea4b93c97c7"
      },
      "source": [
        "# Grab some data \n",
        "dataiter = iter(trainloader)\n",
        "images, labels = dataiter.next()\n",
        "\n",
        "# Resize images into a 1D vector, new shape is (batch size, color channels, image pixels) \n",
        "images.resize_(64, 1, 784)\n",
        "# or images.resize_(images.shape[0], 1, 784) to automatically get batch size\n",
        "\n",
        "# Forward pass through the network\n",
        "img_idx = 0\n",
        "ps = model.forward(images[img_idx,:])\n",
        "\n",
        "img = images[img_idx]\n",
        "helper.view_classify(img.view(1, 28, 28), ps)"
      ],
      "execution_count": 21,
      "outputs": [
        {
          "output_type": "error",
          "ename": "AttributeError",
          "evalue": "ignored",
          "traceback": [
            "\u001b[0;31m---------------------------------------------------------------------------\u001b[0m",
            "\u001b[0;31mAttributeError\u001b[0m                            Traceback (most recent call last)",
            "\u001b[0;32m<ipython-input-21-07a71317f718>\u001b[0m in \u001b[0;36m<module>\u001b[0;34m()\u001b[0m\n\u001b[1;32m     11\u001b[0m \u001b[0;34m\u001b[0m\u001b[0m\n\u001b[1;32m     12\u001b[0m \u001b[0mimg\u001b[0m \u001b[0;34m=\u001b[0m \u001b[0mimages\u001b[0m\u001b[0;34m[\u001b[0m\u001b[0mimg_idx\u001b[0m\u001b[0;34m]\u001b[0m\u001b[0;34m\u001b[0m\u001b[0;34m\u001b[0m\u001b[0m\n\u001b[0;32m---> 13\u001b[0;31m \u001b[0mhelper\u001b[0m\u001b[0;34m.\u001b[0m\u001b[0mview_classify\u001b[0m\u001b[0;34m(\u001b[0m\u001b[0mimg\u001b[0m\u001b[0;34m.\u001b[0m\u001b[0mview\u001b[0m\u001b[0;34m(\u001b[0m\u001b[0;36m1\u001b[0m\u001b[0;34m,\u001b[0m \u001b[0;36m28\u001b[0m\u001b[0;34m,\u001b[0m \u001b[0;36m28\u001b[0m\u001b[0;34m)\u001b[0m\u001b[0;34m,\u001b[0m \u001b[0mps\u001b[0m\u001b[0;34m)\u001b[0m\u001b[0;34m\u001b[0m\u001b[0;34m\u001b[0m\u001b[0m\n\u001b[0m",
            "\u001b[0;31mAttributeError\u001b[0m: module 'helper' has no attribute 'view_classify'"
          ]
        }
      ]
    },
    {
      "cell_type": "markdown",
      "metadata": {
        "id": "7d-3oUkQtUXw",
        "colab_type": "text"
      },
      "source": [
        "As you can see above, our network has basically no idea what this digit is. It's because we haven't trained it yet, all the weights are random!\n",
        "\n",
        "### Using `nn.Sequential`\n",
        "\n",
        "PyTorch provides a convenient way to build networks like this where a tensor is passed sequentially through operations, `nn.Sequential` ([documentation](https://pytorch.org/docs/master/nn.html#torch.nn.Sequential)). Using this to build the equivalent network:"
      ]
    },
    {
      "cell_type": "code",
      "metadata": {
        "id": "3EGcN4k7tUXx",
        "colab_type": "code",
        "colab": {
          "base_uri": "https://localhost:8080/",
          "height": 330
        },
        "outputId": "28157ebc-0875-4ff7-fa12-85293022a25b"
      },
      "source": [
        "# Hyperparameters for our network\n",
        "input_size = 784\n",
        "hidden_sizes = [128, 64]\n",
        "output_size = 10\n",
        "\n",
        "# Build a feed-forward network\n",
        "model = nn.Sequential(nn.Linear(input_size, hidden_sizes[0]),\n",
        "                      nn.ReLU(),\n",
        "                      nn.Linear(hidden_sizes[0], hidden_sizes[1]),\n",
        "                      nn.ReLU(),\n",
        "                      nn.Linear(hidden_sizes[1], output_size),\n",
        "                      nn.Softmax(dim=1))\n",
        "print(model)\n",
        "\n",
        "# Forward pass through the network and display output\n",
        "images, labels = next(iter(trainloader))\n",
        "images.resize_(images.shape[0], 1, 784)\n",
        "ps = model.forward(images[0,:])\n",
        "helper.view_classify(images[0].view(1, 28, 28), ps)"
      ],
      "execution_count": 22,
      "outputs": [
        {
          "output_type": "stream",
          "text": [
            "Sequential(\n",
            "  (0): Linear(in_features=784, out_features=128, bias=True)\n",
            "  (1): ReLU()\n",
            "  (2): Linear(in_features=128, out_features=64, bias=True)\n",
            "  (3): ReLU()\n",
            "  (4): Linear(in_features=64, out_features=10, bias=True)\n",
            "  (5): Softmax()\n",
            ")\n"
          ],
          "name": "stdout"
        },
        {
          "output_type": "error",
          "ename": "AttributeError",
          "evalue": "ignored",
          "traceback": [
            "\u001b[0;31m---------------------------------------------------------------------------\u001b[0m",
            "\u001b[0;31mAttributeError\u001b[0m                            Traceback (most recent call last)",
            "\u001b[0;32m<ipython-input-22-c280e5febbb4>\u001b[0m in \u001b[0;36m<module>\u001b[0;34m()\u001b[0m\n\u001b[1;32m     16\u001b[0m \u001b[0mimages\u001b[0m\u001b[0;34m.\u001b[0m\u001b[0mresize_\u001b[0m\u001b[0;34m(\u001b[0m\u001b[0mimages\u001b[0m\u001b[0;34m.\u001b[0m\u001b[0mshape\u001b[0m\u001b[0;34m[\u001b[0m\u001b[0;36m0\u001b[0m\u001b[0;34m]\u001b[0m\u001b[0;34m,\u001b[0m \u001b[0;36m1\u001b[0m\u001b[0;34m,\u001b[0m \u001b[0;36m784\u001b[0m\u001b[0;34m)\u001b[0m\u001b[0;34m\u001b[0m\u001b[0;34m\u001b[0m\u001b[0m\n\u001b[1;32m     17\u001b[0m \u001b[0mps\u001b[0m \u001b[0;34m=\u001b[0m \u001b[0mmodel\u001b[0m\u001b[0;34m.\u001b[0m\u001b[0mforward\u001b[0m\u001b[0;34m(\u001b[0m\u001b[0mimages\u001b[0m\u001b[0;34m[\u001b[0m\u001b[0;36m0\u001b[0m\u001b[0;34m,\u001b[0m\u001b[0;34m:\u001b[0m\u001b[0;34m]\u001b[0m\u001b[0;34m)\u001b[0m\u001b[0;34m\u001b[0m\u001b[0;34m\u001b[0m\u001b[0m\n\u001b[0;32m---> 18\u001b[0;31m \u001b[0mhelper\u001b[0m\u001b[0;34m.\u001b[0m\u001b[0mview_classify\u001b[0m\u001b[0;34m(\u001b[0m\u001b[0mimages\u001b[0m\u001b[0;34m[\u001b[0m\u001b[0;36m0\u001b[0m\u001b[0;34m]\u001b[0m\u001b[0;34m.\u001b[0m\u001b[0mview\u001b[0m\u001b[0;34m(\u001b[0m\u001b[0;36m1\u001b[0m\u001b[0;34m,\u001b[0m \u001b[0;36m28\u001b[0m\u001b[0;34m,\u001b[0m \u001b[0;36m28\u001b[0m\u001b[0;34m)\u001b[0m\u001b[0;34m,\u001b[0m \u001b[0mps\u001b[0m\u001b[0;34m)\u001b[0m\u001b[0;34m\u001b[0m\u001b[0;34m\u001b[0m\u001b[0m\n\u001b[0m",
            "\u001b[0;31mAttributeError\u001b[0m: module 'helper' has no attribute 'view_classify'"
          ]
        }
      ]
    },
    {
      "cell_type": "markdown",
      "metadata": {
        "id": "NEHPuNw4tUX0",
        "colab_type": "text"
      },
      "source": [
        "Here our model is the same as before: 784 input units, a hidden layer with 128 units, ReLU activation, 64 unit hidden layer, another ReLU, then the output layer with 10 units, and the softmax output.\n",
        "\n",
        "The operations are available by passing in the appropriate index. For example, if you want to get first Linear operation and look at the weights, you'd use `model[0]`."
      ]
    },
    {
      "cell_type": "code",
      "metadata": {
        "id": "JGFiN7Y0tUX0",
        "colab_type": "code",
        "colab": {
          "base_uri": "https://localhost:8080/",
          "height": 185
        },
        "outputId": "5d09947b-003c-4183-8e3f-79963e3318c8"
      },
      "source": [
        "print(model[0])\n",
        "model[0].weight"
      ],
      "execution_count": 23,
      "outputs": [
        {
          "output_type": "stream",
          "text": [
            "Linear(in_features=784, out_features=128, bias=True)\n"
          ],
          "name": "stdout"
        },
        {
          "output_type": "execute_result",
          "data": {
            "text/plain": [
              "Parameter containing:\n",
              "tensor([[ 0.0174,  0.0175,  0.0254,  ..., -0.0173, -0.0231,  0.0120],\n",
              "        [ 0.0254, -0.0052, -0.0251,  ..., -0.0322, -0.0309,  0.0232],\n",
              "        [ 0.0240,  0.0308, -0.0027,  ...,  0.0127, -0.0087, -0.0325],\n",
              "        ...,\n",
              "        [-0.0238,  0.0184, -0.0141,  ...,  0.0256, -0.0203,  0.0137],\n",
              "        [-0.0270,  0.0098,  0.0043,  ..., -0.0173,  0.0234, -0.0260],\n",
              "        [ 0.0161, -0.0225,  0.0080,  ...,  0.0320, -0.0107,  0.0219]],\n",
              "       requires_grad=True)"
            ]
          },
          "metadata": {
            "tags": []
          },
          "execution_count": 23
        }
      ]
    },
    {
      "cell_type": "markdown",
      "metadata": {
        "id": "EacmfUf3tUX4",
        "colab_type": "text"
      },
      "source": [
        "You can also pass in an `OrderedDict` to name the individual layers and operations, instead of using incremental integers. Note that dictionary keys must be unique, so _each operation must have a different name_."
      ]
    },
    {
      "cell_type": "code",
      "metadata": {
        "id": "sSFupYYJtUX4",
        "colab_type": "code",
        "colab": {
          "base_uri": "https://localhost:8080/",
          "height": 151
        },
        "outputId": "f6b877d5-6c88-4702-e22a-80490c5af41f"
      },
      "source": [
        "from collections import OrderedDict\n",
        "model = nn.Sequential(OrderedDict([\n",
        "                      ('fc1', nn.Linear(input_size, hidden_sizes[0])),\n",
        "                      ('relu1', nn.ReLU()),\n",
        "                      ('fc2', nn.Linear(hidden_sizes[0], hidden_sizes[1])),\n",
        "                      ('relu2', nn.ReLU()),\n",
        "                      ('output', nn.Linear(hidden_sizes[1], output_size)),\n",
        "                      ('softmax', nn.Softmax(dim=1))]))\n",
        "model"
      ],
      "execution_count": 24,
      "outputs": [
        {
          "output_type": "execute_result",
          "data": {
            "text/plain": [
              "Sequential(\n",
              "  (fc1): Linear(in_features=784, out_features=128, bias=True)\n",
              "  (relu1): ReLU()\n",
              "  (fc2): Linear(in_features=128, out_features=64, bias=True)\n",
              "  (relu2): ReLU()\n",
              "  (output): Linear(in_features=64, out_features=10, bias=True)\n",
              "  (softmax): Softmax()\n",
              ")"
            ]
          },
          "metadata": {
            "tags": []
          },
          "execution_count": 24
        }
      ]
    },
    {
      "cell_type": "markdown",
      "metadata": {
        "id": "0MITEG11tUX7",
        "colab_type": "text"
      },
      "source": [
        "Now you can access layers either by integer or the name"
      ]
    },
    {
      "cell_type": "code",
      "metadata": {
        "id": "biSUI4TZtUX8",
        "colab_type": "code",
        "colab": {
          "base_uri": "https://localhost:8080/",
          "height": 50
        },
        "outputId": "fb4cd43a-1382-4975-e0de-213ba6899b0b"
      },
      "source": [
        "print(model[0])\n",
        "print(model.fc1)"
      ],
      "execution_count": 25,
      "outputs": [
        {
          "output_type": "stream",
          "text": [
            "Linear(in_features=784, out_features=128, bias=True)\n",
            "Linear(in_features=784, out_features=128, bias=True)\n"
          ],
          "name": "stdout"
        }
      ]
    },
    {
      "cell_type": "markdown",
      "metadata": {
        "id": "12UGEQDqtUX-",
        "colab_type": "text"
      },
      "source": [
        "In the next notebook, we'll see how we can train a neural network to accuractly predict the numbers appearing in the MNIST images."
      ]
    }
  ]
}